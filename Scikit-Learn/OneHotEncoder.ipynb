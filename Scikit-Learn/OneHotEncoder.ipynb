{
 "cells": [
  {
   "metadata": {},
   "cell_type": "markdown",
   "source": [
    "## One Hot Encoder\n",
    "\n",
    "Great for working with Categorical data"
   ],
   "id": "b795c3cab0d125d1"
  },
  {
   "cell_type": "code",
   "id": "initial_id",
   "metadata": {
    "collapsed": true,
    "ExecuteTime": {
     "end_time": "2024-12-20T02:13:38.775004Z",
     "start_time": "2024-12-20T02:13:37.227778Z"
    }
   },
   "source": [
    "import pandas as pd\n",
    "from sklearn.preprocessing import OneHotEncoder "
   ],
   "outputs": [],
   "execution_count": 2
  },
  {
   "metadata": {
    "ExecuteTime": {
     "end_time": "2024-12-20T02:13:39.893820Z",
     "start_time": "2024-12-20T02:13:39.888473Z"
    }
   },
   "cell_type": "code",
   "source": "d = {'sales': [100000,222000,1000000,522000,111111,222222,1111111,20000,75000,90000,1000000,10000], 'city': ['Tampa','Tampa','Orlando','Jacksonville','Miami','Jacksonville','Miami','Miami','Orlando','Orlando','Orlando','Orlando'], 'size': ['Small', 'Medium','Large','Large','Small','Medium','Large','Small','Medium','Medium','Medium','Small',]}",
   "id": "6b7b2a848f9141c",
   "outputs": [],
   "execution_count": 3
  },
  {
   "metadata": {
    "ExecuteTime": {
     "end_time": "2024-12-20T02:14:12.431267Z",
     "start_time": "2024-12-20T02:14:12.427254Z"
    }
   },
   "cell_type": "code",
   "source": "df = pd.DataFrame(d)",
   "id": "6ff04f7491e0f829",
   "outputs": [],
   "execution_count": 7
  },
  {
   "metadata": {
    "ExecuteTime": {
     "end_time": "2024-12-20T02:14:14.048347Z",
     "start_time": "2024-12-20T02:14:14.039559Z"
    }
   },
   "cell_type": "code",
   "source": "df.head",
   "id": "86a48d9a84c1d5d6",
   "outputs": [
    {
     "data": {
      "text/plain": [
       "<bound method NDFrame.head of       sales          city    size\n",
       "0    100000         Tampa   Small\n",
       "1    222000         Tampa  Medium\n",
       "2   1000000       Orlando   Large\n",
       "3    522000  Jacksonville   Large\n",
       "4    111111         Miami   Small\n",
       "5    222222  Jacksonville  Medium\n",
       "6   1111111         Miami   Large\n",
       "7     20000         Miami   Small\n",
       "8     75000       Orlando  Medium\n",
       "9     90000       Orlando  Medium\n",
       "10  1000000       Orlando  Medium\n",
       "11    10000       Orlando   Small>"
      ]
     },
     "execution_count": 8,
     "metadata": {},
     "output_type": "execute_result"
    }
   ],
   "execution_count": 8
  },
  {
   "metadata": {
    "ExecuteTime": {
     "end_time": "2024-12-20T02:14:43.294063Z",
     "start_time": "2024-12-20T02:14:43.287331Z"
    }
   },
   "cell_type": "code",
   "source": "df[\"city\"].unique()",
   "id": "307f035578549b29",
   "outputs": [
    {
     "data": {
      "text/plain": [
       "array(['Tampa', 'Orlando', 'Jacksonville', 'Miami'], dtype=object)"
      ]
     },
     "execution_count": 9,
     "metadata": {},
     "output_type": "execute_result"
    }
   ],
   "execution_count": 9
  },
  {
   "metadata": {
    "ExecuteTime": {
     "end_time": "2024-12-20T02:17:48.239732Z",
     "start_time": "2024-12-20T02:17:48.235706Z"
    }
   },
   "cell_type": "code",
   "source": "ohe = OneHotEncoder(handle_unknown=\"ignore\", sparse_output=False).set_output(transform=\"pandas\")",
   "id": "5d223cf8351caf32",
   "outputs": [],
   "execution_count": 12
  },
  {
   "metadata": {
    "ExecuteTime": {
     "end_time": "2024-12-20T02:18:09.924127Z",
     "start_time": "2024-12-20T02:18:09.916074Z"
    }
   },
   "cell_type": "code",
   "source": "ohe_transform=ohe.fit_transform(df[[\"city\"]])",
   "id": "fc791936b89ae23b",
   "outputs": [],
   "execution_count": 13
  },
  {
   "metadata": {
    "ExecuteTime": {
     "end_time": "2024-12-20T02:18:11.966628Z",
     "start_time": "2024-12-20T02:18:11.955626Z"
    }
   },
   "cell_type": "code",
   "source": "ohe_transform",
   "id": "1a5a8e8304e1ec31",
   "outputs": [
    {
     "data": {
      "text/plain": [
       "    city_Jacksonville  city_Miami  city_Orlando  city_Tampa\n",
       "0                 0.0         0.0           0.0         1.0\n",
       "1                 0.0         0.0           0.0         1.0\n",
       "2                 0.0         0.0           1.0         0.0\n",
       "3                 1.0         0.0           0.0         0.0\n",
       "4                 0.0         1.0           0.0         0.0\n",
       "5                 1.0         0.0           0.0         0.0\n",
       "6                 0.0         1.0           0.0         0.0\n",
       "7                 0.0         1.0           0.0         0.0\n",
       "8                 0.0         0.0           1.0         0.0\n",
       "9                 0.0         0.0           1.0         0.0\n",
       "10                0.0         0.0           1.0         0.0\n",
       "11                0.0         0.0           1.0         0.0"
      ],
      "text/html": [
       "<div>\n",
       "<style scoped>\n",
       "    .dataframe tbody tr th:only-of-type {\n",
       "        vertical-align: middle;\n",
       "    }\n",
       "\n",
       "    .dataframe tbody tr th {\n",
       "        vertical-align: top;\n",
       "    }\n",
       "\n",
       "    .dataframe thead th {\n",
       "        text-align: right;\n",
       "    }\n",
       "</style>\n",
       "<table border=\"1\" class=\"dataframe\">\n",
       "  <thead>\n",
       "    <tr style=\"text-align: right;\">\n",
       "      <th></th>\n",
       "      <th>city_Jacksonville</th>\n",
       "      <th>city_Miami</th>\n",
       "      <th>city_Orlando</th>\n",
       "      <th>city_Tampa</th>\n",
       "    </tr>\n",
       "  </thead>\n",
       "  <tbody>\n",
       "    <tr>\n",
       "      <th>0</th>\n",
       "      <td>0.0</td>\n",
       "      <td>0.0</td>\n",
       "      <td>0.0</td>\n",
       "      <td>1.0</td>\n",
       "    </tr>\n",
       "    <tr>\n",
       "      <th>1</th>\n",
       "      <td>0.0</td>\n",
       "      <td>0.0</td>\n",
       "      <td>0.0</td>\n",
       "      <td>1.0</td>\n",
       "    </tr>\n",
       "    <tr>\n",
       "      <th>2</th>\n",
       "      <td>0.0</td>\n",
       "      <td>0.0</td>\n",
       "      <td>1.0</td>\n",
       "      <td>0.0</td>\n",
       "    </tr>\n",
       "    <tr>\n",
       "      <th>3</th>\n",
       "      <td>1.0</td>\n",
       "      <td>0.0</td>\n",
       "      <td>0.0</td>\n",
       "      <td>0.0</td>\n",
       "    </tr>\n",
       "    <tr>\n",
       "      <th>4</th>\n",
       "      <td>0.0</td>\n",
       "      <td>1.0</td>\n",
       "      <td>0.0</td>\n",
       "      <td>0.0</td>\n",
       "    </tr>\n",
       "    <tr>\n",
       "      <th>5</th>\n",
       "      <td>1.0</td>\n",
       "      <td>0.0</td>\n",
       "      <td>0.0</td>\n",
       "      <td>0.0</td>\n",
       "    </tr>\n",
       "    <tr>\n",
       "      <th>6</th>\n",
       "      <td>0.0</td>\n",
       "      <td>1.0</td>\n",
       "      <td>0.0</td>\n",
       "      <td>0.0</td>\n",
       "    </tr>\n",
       "    <tr>\n",
       "      <th>7</th>\n",
       "      <td>0.0</td>\n",
       "      <td>1.0</td>\n",
       "      <td>0.0</td>\n",
       "      <td>0.0</td>\n",
       "    </tr>\n",
       "    <tr>\n",
       "      <th>8</th>\n",
       "      <td>0.0</td>\n",
       "      <td>0.0</td>\n",
       "      <td>1.0</td>\n",
       "      <td>0.0</td>\n",
       "    </tr>\n",
       "    <tr>\n",
       "      <th>9</th>\n",
       "      <td>0.0</td>\n",
       "      <td>0.0</td>\n",
       "      <td>1.0</td>\n",
       "      <td>0.0</td>\n",
       "    </tr>\n",
       "    <tr>\n",
       "      <th>10</th>\n",
       "      <td>0.0</td>\n",
       "      <td>0.0</td>\n",
       "      <td>1.0</td>\n",
       "      <td>0.0</td>\n",
       "    </tr>\n",
       "    <tr>\n",
       "      <th>11</th>\n",
       "      <td>0.0</td>\n",
       "      <td>0.0</td>\n",
       "      <td>1.0</td>\n",
       "      <td>0.0</td>\n",
       "    </tr>\n",
       "  </tbody>\n",
       "</table>\n",
       "</div>"
      ]
     },
     "execution_count": 14,
     "metadata": {},
     "output_type": "execute_result"
    }
   ],
   "execution_count": 14
  },
  {
   "metadata": {},
   "cell_type": "markdown",
   "source": "### Merge both ohe_transform df and the original df",
   "id": "9e556897fad32efd"
  },
  {
   "metadata": {
    "ExecuteTime": {
     "end_time": "2024-12-20T02:19:30.796464Z",
     "start_time": "2024-12-20T02:19:30.791009Z"
    }
   },
   "cell_type": "code",
   "source": "df = pd.concat([df, ohe_transform], axis=1).drop(columns = [\"city\"])",
   "id": "3647600b2f2b3df6",
   "outputs": [],
   "execution_count": 15
  },
  {
   "metadata": {
    "ExecuteTime": {
     "end_time": "2024-12-20T02:19:40.518874Z",
     "start_time": "2024-12-20T02:19:40.508548Z"
    }
   },
   "cell_type": "code",
   "source": "df.head(10)",
   "id": "44d7ec6e0a89d81e",
   "outputs": [
    {
     "data": {
      "text/plain": [
       "     sales    size  city_Jacksonville  city_Miami  city_Orlando  city_Tampa\n",
       "0   100000   Small                0.0         0.0           0.0         1.0\n",
       "1   222000  Medium                0.0         0.0           0.0         1.0\n",
       "2  1000000   Large                0.0         0.0           1.0         0.0\n",
       "3   522000   Large                1.0         0.0           0.0         0.0\n",
       "4   111111   Small                0.0         1.0           0.0         0.0\n",
       "5   222222  Medium                1.0         0.0           0.0         0.0\n",
       "6  1111111   Large                0.0         1.0           0.0         0.0\n",
       "7    20000   Small                0.0         1.0           0.0         0.0\n",
       "8    75000  Medium                0.0         0.0           1.0         0.0\n",
       "9    90000  Medium                0.0         0.0           1.0         0.0"
      ],
      "text/html": [
       "<div>\n",
       "<style scoped>\n",
       "    .dataframe tbody tr th:only-of-type {\n",
       "        vertical-align: middle;\n",
       "    }\n",
       "\n",
       "    .dataframe tbody tr th {\n",
       "        vertical-align: top;\n",
       "    }\n",
       "\n",
       "    .dataframe thead th {\n",
       "        text-align: right;\n",
       "    }\n",
       "</style>\n",
       "<table border=\"1\" class=\"dataframe\">\n",
       "  <thead>\n",
       "    <tr style=\"text-align: right;\">\n",
       "      <th></th>\n",
       "      <th>sales</th>\n",
       "      <th>size</th>\n",
       "      <th>city_Jacksonville</th>\n",
       "      <th>city_Miami</th>\n",
       "      <th>city_Orlando</th>\n",
       "      <th>city_Tampa</th>\n",
       "    </tr>\n",
       "  </thead>\n",
       "  <tbody>\n",
       "    <tr>\n",
       "      <th>0</th>\n",
       "      <td>100000</td>\n",
       "      <td>Small</td>\n",
       "      <td>0.0</td>\n",
       "      <td>0.0</td>\n",
       "      <td>0.0</td>\n",
       "      <td>1.0</td>\n",
       "    </tr>\n",
       "    <tr>\n",
       "      <th>1</th>\n",
       "      <td>222000</td>\n",
       "      <td>Medium</td>\n",
       "      <td>0.0</td>\n",
       "      <td>0.0</td>\n",
       "      <td>0.0</td>\n",
       "      <td>1.0</td>\n",
       "    </tr>\n",
       "    <tr>\n",
       "      <th>2</th>\n",
       "      <td>1000000</td>\n",
       "      <td>Large</td>\n",
       "      <td>0.0</td>\n",
       "      <td>0.0</td>\n",
       "      <td>1.0</td>\n",
       "      <td>0.0</td>\n",
       "    </tr>\n",
       "    <tr>\n",
       "      <th>3</th>\n",
       "      <td>522000</td>\n",
       "      <td>Large</td>\n",
       "      <td>1.0</td>\n",
       "      <td>0.0</td>\n",
       "      <td>0.0</td>\n",
       "      <td>0.0</td>\n",
       "    </tr>\n",
       "    <tr>\n",
       "      <th>4</th>\n",
       "      <td>111111</td>\n",
       "      <td>Small</td>\n",
       "      <td>0.0</td>\n",
       "      <td>1.0</td>\n",
       "      <td>0.0</td>\n",
       "      <td>0.0</td>\n",
       "    </tr>\n",
       "    <tr>\n",
       "      <th>5</th>\n",
       "      <td>222222</td>\n",
       "      <td>Medium</td>\n",
       "      <td>1.0</td>\n",
       "      <td>0.0</td>\n",
       "      <td>0.0</td>\n",
       "      <td>0.0</td>\n",
       "    </tr>\n",
       "    <tr>\n",
       "      <th>6</th>\n",
       "      <td>1111111</td>\n",
       "      <td>Large</td>\n",
       "      <td>0.0</td>\n",
       "      <td>1.0</td>\n",
       "      <td>0.0</td>\n",
       "      <td>0.0</td>\n",
       "    </tr>\n",
       "    <tr>\n",
       "      <th>7</th>\n",
       "      <td>20000</td>\n",
       "      <td>Small</td>\n",
       "      <td>0.0</td>\n",
       "      <td>1.0</td>\n",
       "      <td>0.0</td>\n",
       "      <td>0.0</td>\n",
       "    </tr>\n",
       "    <tr>\n",
       "      <th>8</th>\n",
       "      <td>75000</td>\n",
       "      <td>Medium</td>\n",
       "      <td>0.0</td>\n",
       "      <td>0.0</td>\n",
       "      <td>1.0</td>\n",
       "      <td>0.0</td>\n",
       "    </tr>\n",
       "    <tr>\n",
       "      <th>9</th>\n",
       "      <td>90000</td>\n",
       "      <td>Medium</td>\n",
       "      <td>0.0</td>\n",
       "      <td>0.0</td>\n",
       "      <td>1.0</td>\n",
       "      <td>0.0</td>\n",
       "    </tr>\n",
       "  </tbody>\n",
       "</table>\n",
       "</div>"
      ]
     },
     "execution_count": 17,
     "metadata": {},
     "output_type": "execute_result"
    }
   ],
   "execution_count": 17
  },
  {
   "metadata": {},
   "cell_type": "code",
   "outputs": [],
   "execution_count": null,
   "source": "",
   "id": "9c870c4189fc33f4"
  }
 ],
 "metadata": {
  "kernelspec": {
   "display_name": "Python 3",
   "language": "python",
   "name": "python3"
  },
  "language_info": {
   "codemirror_mode": {
    "name": "ipython",
    "version": 2
   },
   "file_extension": ".py",
   "mimetype": "text/x-python",
   "name": "python",
   "nbconvert_exporter": "python",
   "pygments_lexer": "ipython2",
   "version": "2.7.6"
  }
 },
 "nbformat": 4,
 "nbformat_minor": 5
}
